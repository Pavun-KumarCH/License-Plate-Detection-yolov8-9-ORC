{
  "nbformat": 4,
  "nbformat_minor": 0,
  "metadata": {
    "colab": {
      "private_outputs": true,
      "provenance": [],
      "gpuType": "T4"
    },
    "kernelspec": {
      "name": "python3",
      "display_name": "Python 3"
    },
    "language_info": {
      "name": "python"
    },
    "accelerator": "GPU"
  },
  "cells": [
    {
      "cell_type": "markdown",
      "source": [
        "##Loading the Data from GitHub"
      ],
      "metadata": {
        "id": "X0RyUZaHO7Fd"
      }
    },
    {
      "cell_type": "code",
      "source": [
        "#@title Loading the Data from GitHub\n",
        "!git clone https://github.com/Pavun-KumarCH/License-Plate-Detection-yolov8-9-ORC.git"
      ],
      "metadata": {
        "id": "b-WjaY2p4ncR"
      },
      "execution_count": null,
      "outputs": []
    },
    {
      "cell_type": "markdown",
      "source": [
        "## Install Requirement"
      ],
      "metadata": {
        "id": "B8KMxpXAO-pz"
      }
    },
    {
      "cell_type": "code",
      "source": [
        "#@title Install requirement\n",
        "!pip install -q ultralytics\n",
        "!pip install -q roboflow"
      ],
      "metadata": {
        "id": "SsF7x1qA8Dy0"
      },
      "execution_count": null,
      "outputs": []
    },
    {
      "cell_type": "code",
      "source": [],
      "metadata": {
        "id": "U_Oy9gVFP1yf"
      },
      "execution_count": null,
      "outputs": []
    },
    {
      "cell_type": "markdown",
      "source": [
        "## Loading The Data"
      ],
      "metadata": {
        "id": "WlPlIgdkPBfA"
      }
    },
    {
      "cell_type": "code",
      "source": [
        "#@title Loading The Data\n",
        "\n",
        "import pandas as pd\n",
        "import os\n",
        "from PIL import Image\n",
        "\n",
        "# Load CSV\n",
        "csv_file = '/content/License-Plate-Detection-yolov8-9-ORC/DATA SCIENTIST_ASSIGNMENT/Licplatesdetection_train.csv'\n",
        "df = pd.read_csv(csv_file)\n",
        "\n",
        "# Path to images\n",
        "images_path = '/content/License-Plate-Detection-yolov8-9-ORC/DATA SCIENTIST_ASSIGNMENT/license_plates_detection_train'\n",
        "\n",
        "# Create YOLO format labels directory\n",
        "labels_path = 'labels'\n",
        "os.makedirs(labels_path, exist_ok=True)\n",
        "\n",
        "# Process each image\n",
        "for _, row in df.iterrows():\n",
        "    img_id = row['img_id']\n",
        "    ymin, xmin, ymax, xmax = row['ymin'], row['xmin'], row['ymax'], row['xmax']\n",
        "    img_path = os.path.join(images_path, img_id)\n",
        "\n",
        "    # Get image dimensions\n",
        "    with Image.open(img_path) as img:\n",
        "        width, height = img.size\n",
        "\n",
        "    # Convert to YOLO format\n",
        "    x_center = (xmin + xmax) / 2 / width\n",
        "    y_center = (ymin + ymax) / 2 / height\n",
        "    bbox_width = (xmax - xmin) / width\n",
        "    bbox_height = (ymax - ymin) / height\n",
        "\n",
        "    # Write to YOLO format file\n",
        "    label_file = os.path.join(labels_path, os.path.splitext(img_id)[0] + '.txt')\n",
        "    with open(label_file, 'w') as f:\n",
        "        f.write(f\"0 {x_center} {y_center} {bbox_width} {bbox_height}\\n\")"
      ],
      "metadata": {
        "id": "tUA8DeRA5N_n"
      },
      "execution_count": null,
      "outputs": []
    },
    {
      "cell_type": "markdown",
      "source": [
        "## Spliting the Detection Data into train and validation"
      ],
      "metadata": {
        "id": "UdtrFIFkPFVL"
      }
    },
    {
      "cell_type": "code",
      "source": [
        "#@title Spliting the Data into train and validation\n",
        "import shutil\n",
        "import numpy as np\n",
        "from sklearn.model_selection import train_test_split\n",
        "\n",
        "# Paths\n",
        "csv_file = '/content/License-Plate-Detection-yolov8-9-ORC/DATA SCIENTIST_ASSIGNMENT/Licplatesdetection_train.csv'\n",
        "images_path = '/content/License-Plate-Detection-yolov8-9-ORC/DATA SCIENTIST_ASSIGNMENT/license_plates_detection_train'\n",
        "labels_path = '/content/labels'\n",
        "\n",
        "# Output directories for split data\n",
        "train_images_path = '/content/Data/Detection/train/images'\n",
        "val_images_path = '/content/Data/Detection/val/images'\n",
        "train_labels_path = '/content/Data/Detection/train/labels'\n",
        "val_labels_path = '/content/Data/Detection/val/labels'\n",
        "\n",
        "# train_images_path = '/content/License-Plate-Detection-yolov8-9-ORC/Data/detection/train/images'\n",
        "# val_images_path = '/content/License-Plate-Detection-yolov8-9-ORC/Data/detection/val/images'\n",
        "# train_labels_path = '/content/License-Plate-Detection-yolov8-9-ORC/Data/detection/train/labels'\n",
        "# val_labels_path = '/content/License-Plate-Detection-yolov8-9-ORC/Data/detection/val/labels'\n",
        "\n",
        "os.makedirs(train_images_path, exist_ok=True)\n",
        "os.makedirs(val_images_path, exist_ok=True)\n",
        "os.makedirs(train_labels_path, exist_ok=True)\n",
        "os.makedirs(val_labels_path, exist_ok=True)\n",
        "\n",
        "# Load CSV file\n",
        "df = pd.read_csv(csv_file)\n",
        "\n",
        "# Split image filenames into training and validation sets\n",
        "img_ids = df['img_id'].unique()\n",
        "train_img_ids, val_img_ids = train_test_split(img_ids, test_size=0.2, random_state=42)\n",
        "\n",
        "# Function to copy files\n",
        "def copy_files(img_ids, src_img_dir, src_lbl_dir, dest_img_dir, dest_lbl_dir):\n",
        "    for img_id in img_ids:\n",
        "        # Copy images\n",
        "        img_src = os.path.join(src_img_dir, img_id)\n",
        "        img_dest = os.path.join(dest_img_dir, img_id)\n",
        "        shutil.copy(img_src, img_dest)\n",
        "\n",
        "        # Copy labels\n",
        "        lbl_src = os.path.join(src_lbl_dir, os.path.splitext(img_id)[0] + '.txt')\n",
        "        lbl_dest = os.path.join(dest_lbl_dir, os.path.splitext(img_id)[0] + '.txt')\n",
        "        if os.path.exists(lbl_src):\n",
        "            shutil.copy(lbl_src, lbl_dest)\n",
        "        else:\n",
        "            print(f\"Warning: Label file for {img_id} not found.\")\n",
        "\n",
        "# Copy training and validation files\n",
        "copy_files(train_img_ids, images_path, labels_path, train_images_path, train_labels_path)\n",
        "copy_files(val_img_ids, images_path, labels_path, val_images_path, val_labels_path)\n",
        "\n",
        "print(\"Data splitting complete.\")"
      ],
      "metadata": {
        "id": "lMYxTyWI5hRK"
      },
      "execution_count": null,
      "outputs": []
    },
    {
      "cell_type": "markdown",
      "source": [
        "# Note : Before Training the Model Make Sure to create dataset.yaml file and add the respective train and val images path\n",
        "\n",
        "\n",
        "\n",
        "train: /content/Data/detection/train/images\n",
        "---\n",
        "val: /content/Data/detection/val/images\n",
        "---\n",
        "nc: 1\n",
        "---\n",
        "names: ['license_plate']\n"
      ],
      "metadata": {
        "id": "MmNtlU8dDe_n"
      }
    },
    {
      "cell_type": "code",
      "source": [
        "#@title Importing the Model & Training\n",
        "from ultralytics import YOLO\n",
        "\n",
        "# Load the model\n",
        "model = YOLO('yolov8n.pt')\n",
        "\n",
        "# Train the model\n",
        "model.train(data='/content/dataset.yaml', epochs=50, imgsz=640, batch=16)"
      ],
      "metadata": {
        "id": "sToqyGfj71sU"
      },
      "execution_count": null,
      "outputs": []
    },
    {
      "cell_type": "markdown",
      "source": [
        " ## Model Evaluation on the Test Data Images & Saving the results"
      ],
      "metadata": {
        "id": "DGTnFw5tPY5a"
      }
    },
    {
      "cell_type": "code",
      "source": [
        "#@title Model Evaluation on the Test Data Images saving the results\n",
        "\n",
        "# Define paths\n",
        "best_model_path = '/content/runs/detect/train2/weights/best.pt'  # Update with the correct path\n",
        "test_images_path = '/content/License-Plate-Detection-yolov8-9-ORC/DATA SCIENTIST_ASSIGNMENT/test/test'\n",
        "results_dir = '/content/test/results'\n",
        "\n",
        "# Create the results directory if it doesn't exist\n",
        "os.makedirs(results_dir, exist_ok=True)\n",
        "\n",
        "# Load the best model\n",
        "model = YOLO(best_model_path)\n",
        "\n",
        "# Run predictions on the test images\n",
        "results = model.predict(test_images_path)\n",
        "\n",
        "# Save the results\n",
        "for i, result in enumerate(results):\n",
        "    # Create a filename for each result\n",
        "    filename = os.path.join(results_dir, f'result_{i}.jpg')\n",
        "    result.save(filename)  # Save the predictions to the results directory\n",
        "\n",
        "print(f\"Results saved to {results_dir}\")\n"
      ],
      "metadata": {
        "id": "yjIy4dOn-aWF"
      },
      "execution_count": null,
      "outputs": []
    },
    {
      "cell_type": "markdown",
      "source": [
        "## Visualizing the Detection of License plate on Test Data"
      ],
      "metadata": {
        "id": "XJ3gvP9VPsUX"
      }
    },
    {
      "cell_type": "code",
      "source": [
        "#@title Visualizing the Detection of License plate on Test Data\n",
        "import matplotlib.pyplot as plt\n",
        "import matplotlib.image as mpimg\n",
        "\n",
        "# Define the results directory\n",
        "results_dir = '/content/test/results'\n",
        "\n",
        "# Get the list of files in the results directory\n",
        "image_files = [f for f in os.listdir(results_dir) if f.endswith(('.jpg', '.png'))]\n",
        "\n",
        "# Display the images\n",
        "for image_file in image_files:\n",
        "    img_path = os.path.join(results_dir, image_file)\n",
        "    img = mpimg.imread(img_path)\n",
        "\n",
        "    plt.figure(figsize=(10, 10))\n",
        "    plt.imshow(img)\n",
        "    plt.title(image_file)\n",
        "    plt.axis('off')  # Hide axis\n",
        "    plt.show()\n"
      ],
      "metadata": {
        "id": "eEOwNt1MCd7j"
      },
      "execution_count": null,
      "outputs": []
    }
  ]
}